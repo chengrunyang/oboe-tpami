{
 "cells": [
  {
   "cell_type": "markdown",
   "metadata": {},
   "source": [
    "This is a classification example to show how to train and test, in the context of AutoML, i.e., do pipeline selection on the training set and then evaluate the performance of the selected model on the test set."
   ]
  },
  {
   "cell_type": "code",
   "execution_count": 1,
   "metadata": {},
   "outputs": [],
   "source": [
    "# necessary modules\n",
    "import sys\n",
    "import pandas as pd\n",
    "import os\n",
    "import time\n",
    "import numpy as np\n",
    "import multiprocessing\n",
    "\n",
    "# Our modules\n",
    "automl_path = '../automl/'\n",
    "sys.path.append(automl_path)\n",
    "from auto_learner import AutoLearner\n",
    "import util\n",
    "\n",
    "#import scikit-learn modules\n",
    "from sklearn.datasets import load_iris\n",
    "from sklearn.model_selection import train_test_split\n",
    "from sklearn.metrics import accuracy_score\n",
    "\n",
    "# disable warnings\n",
    "import warnings\n",
    "warnings.filterwarnings('ignore')"
   ]
  },
  {
   "cell_type": "code",
   "execution_count": 2,
   "metadata": {},
   "outputs": [],
   "source": [
    "#load and split dataset into training and test folds\n",
    "data = load_iris()\n",
    "x = np.array(data['data'])\n",
    "y = np.array(data['target'])\n",
    "x_train, x_test, y_train, y_test = train_test_split(x, y, test_size=0.2)"
   ]
  },
  {
   "cell_type": "markdown",
   "metadata": {},
   "source": [
    "# Example 1: a no-brainer use"
   ]
  },
  {
   "cell_type": "code",
   "execution_count": 3,
   "metadata": {},
   "outputs": [],
   "source": [
    "# initialize the autolearner class\n",
    "m = AutoLearner(p_type='classification', runtime_limit=100, load_imputed=True, verbose=False)"
   ]
  },
  {
   "cell_type": "code",
   "execution_count": 4,
   "metadata": {},
   "outputs": [],
   "source": [
    "# fit autolearner on training set and record runtime\n",
    "start = time.time()\n",
    "m.fit(x_train, y_train)\n",
    "elapsed_time = time.time() - start"
   ]
  },
  {
   "cell_type": "code",
   "execution_count": 5,
   "metadata": {},
   "outputs": [
    {
     "name": "stdout",
     "output_type": "stream",
     "text": [
      "prediction error: 0.0\n",
      "elapsed time: 42.08381485939026\n"
     ]
    }
   ],
   "source": [
    "# use the fitted autolearner for prediction on test set\n",
    "y_predicted = m.predict(x_test)\n",
    "print(\"prediction error: {}\".format(util.error(y_test, y_predicted, 'classification')))    \n",
    "print(\"elapsed time: {}\".format(elapsed_time))"
   ]
  },
  {
   "cell_type": "code",
   "execution_count": 6,
   "metadata": {},
   "outputs": [
    {
     "data": {
      "text/plain": [
       "{'ensemble method': 'select at most 5 pipelines with smallest cv error',\n",
       " 'base learners': [{'imputer': {'algorithm': 'SimpleImputer',\n",
       "    'hyperparameters': {'strategy': 'constant'}},\n",
       "   'encoder': {'algorithm': None},\n",
       "   'standardizer': {'algorithm': None},\n",
       "   'dim_reducer': {'algorithm': None},\n",
       "   'estimator': {'algorithm': 'KNN',\n",
       "    'hyperparameters': {'n_neighbors': 11, 'p': 2}}},\n",
       "  {'imputer': {'algorithm': 'SimpleImputer',\n",
       "    'hyperparameters': {'strategy': 'constant'}},\n",
       "   'encoder': {'algorithm': None},\n",
       "   'standardizer': {'algorithm': None},\n",
       "   'dim_reducer': {'algorithm': None},\n",
       "   'estimator': {'algorithm': 'KNN',\n",
       "    'hyperparameters': {'n_neighbors': 13, 'p': 1}}},\n",
       "  {'imputer': {'algorithm': 'SimpleImputer',\n",
       "    'hyperparameters': {'strategy': 'constant'}},\n",
       "   'encoder': {'algorithm': None},\n",
       "   'standardizer': {'algorithm': None},\n",
       "   'dim_reducer': {'algorithm': None},\n",
       "   'estimator': {'algorithm': 'KNN',\n",
       "    'hyperparameters': {'n_neighbors': 5, 'p': 2}}},\n",
       "  {'imputer': {'algorithm': 'SimpleImputer',\n",
       "    'hyperparameters': {'strategy': 'constant'}},\n",
       "   'encoder': {'algorithm': None},\n",
       "   'standardizer': {'algorithm': None},\n",
       "   'dim_reducer': {'algorithm': None},\n",
       "   'estimator': {'algorithm': 'KNN',\n",
       "    'hyperparameters': {'n_neighbors': 9, 'p': 2}}},\n",
       "  {'imputer': {'algorithm': 'SimpleImputer',\n",
       "    'hyperparameters': {'strategy': 'most_frequent'}},\n",
       "   'encoder': {'algorithm': None},\n",
       "   'standardizer': {'algorithm': None},\n",
       "   'dim_reducer': {'algorithm': 'VarianceThreshold', 'hyperparameters': {}},\n",
       "   'estimator': {'algorithm': 'KNN',\n",
       "    'hyperparameters': {'n_neighbors': 9, 'p': 2}}}]}"
      ]
     },
     "execution_count": 6,
     "metadata": {},
     "output_type": "execute_result"
    }
   ],
   "source": [
    "# get names of the selected machine learning models\n",
    "m.get_models()"
   ]
  },
  {
   "cell_type": "markdown",
   "metadata": {},
   "source": [
    "# Example 2: build an ensemble of models"
   ]
  },
  {
   "cell_type": "code",
   "execution_count": 7,
   "metadata": {},
   "outputs": [],
   "source": [
    "#experimental settings\n",
    "VERBOSE = False #whether to print out information indicating current fitting progress\n",
    "N_CORES = 1 #number of cores\n",
    "RUNTIME_BUDGET = 15"
   ]
  },
  {
   "cell_type": "code",
   "execution_count": 8,
   "metadata": {},
   "outputs": [],
   "source": [
    "#autolearner arguments\n",
    "autolearner_kwargs = {\n",
    "    'p_type': 'classification',\n",
    "    'runtime_limit': RUNTIME_BUDGET,\n",
    "    'verbose': VERBOSE,\n",
    "    'selection_method': 'min_variance',\n",
    "    'stacking_alg': 'greedy',\n",
    "    'n_cores': N_CORES,\n",
    "    'build_ensemble': True,\n",
    "}"
   ]
  },
  {
   "cell_type": "code",
   "execution_count": 9,
   "metadata": {},
   "outputs": [],
   "source": [
    "#intialize the autolearner class\n",
    "m = AutoLearner(**autolearner_kwargs)"
   ]
  },
  {
   "cell_type": "code",
   "execution_count": 10,
   "metadata": {},
   "outputs": [],
   "source": [
    "# fit autolearner on training set and record runtime\n",
    "start = time.time()\n",
    "m.fit(x_train, y_train)\n",
    "elapsed_time = time.time() - start"
   ]
  },
  {
   "cell_type": "code",
   "execution_count": 11,
   "metadata": {},
   "outputs": [
    {
     "name": "stdout",
     "output_type": "stream",
     "text": [
      "prediction error: 0.0514550264550265\n",
      "elapsed time: 12.84459137916565\n"
     ]
    }
   ],
   "source": [
    "# use the fitted autolearner for prediction on test set\n",
    "y_predicted = m.predict(x_test)\n",
    "print(\"prediction error: {}\".format(util.error(y_test, y_predicted, 'classification')))\n",
    "print(\"elapsed time: {}\".format(elapsed_time))"
   ]
  },
  {
   "cell_type": "code",
   "execution_count": 12,
   "metadata": {
    "scrolled": true
   },
   "outputs": [
    {
     "data": {
      "text/plain": [
       "{'ensemble method': 'select at most 5 pipelines with smallest cv error',\n",
       " 'base learners': [{'imputer': {'algorithm': 'SimpleImputer',\n",
       "    'hyperparameters': {'strategy': 'constant'}},\n",
       "   'encoder': {'algorithm': None},\n",
       "   'standardizer': {'algorithm': None},\n",
       "   'dim_reducer': {'algorithm': None},\n",
       "   'estimator': {'algorithm': 'KNN',\n",
       "    'hyperparameters': {'n_neighbors': 11, 'p': 2}}},\n",
       "  {'imputer': {'algorithm': 'SimpleImputer',\n",
       "    'hyperparameters': {'strategy': 'most_frequent'}},\n",
       "   'encoder': {'algorithm': None},\n",
       "   'standardizer': {'algorithm': None},\n",
       "   'dim_reducer': {'algorithm': None},\n",
       "   'estimator': {'algorithm': 'KNN',\n",
       "    'hyperparameters': {'n_neighbors': 1, 'p': 2}}},\n",
       "  {'imputer': {'algorithm': 'SimpleImputer',\n",
       "    'hyperparameters': {'strategy': 'most_frequent'}},\n",
       "   'encoder': {'algorithm': None},\n",
       "   'standardizer': {'algorithm': None},\n",
       "   'dim_reducer': {'algorithm': None},\n",
       "   'estimator': {'algorithm': 'KNN',\n",
       "    'hyperparameters': {'n_neighbors': 1, 'p': 2}}},\n",
       "  {'imputer': {'algorithm': 'SimpleImputer',\n",
       "    'hyperparameters': {'strategy': 'most_frequent'}},\n",
       "   'encoder': {'algorithm': None},\n",
       "   'standardizer': {'algorithm': None},\n",
       "   'dim_reducer': {'algorithm': None},\n",
       "   'estimator': {'algorithm': 'KNN',\n",
       "    'hyperparameters': {'n_neighbors': 1, 'p': 2}}},\n",
       "  {'imputer': {'algorithm': 'SimpleImputer',\n",
       "    'hyperparameters': {'strategy': 'constant'}},\n",
       "   'encoder': {'algorithm': None},\n",
       "   'standardizer': {'algorithm': None},\n",
       "   'dim_reducer': {'algorithm': None},\n",
       "   'estimator': {'algorithm': 'KNN',\n",
       "    'hyperparameters': {'n_neighbors': 1, 'p': 1}}}]}"
      ]
     },
     "execution_count": 12,
     "metadata": {},
     "output_type": "execute_result"
    }
   ],
   "source": [
    "# get names of the selected pipelines\n",
    "m.get_models()"
   ]
  }
 ],
 "metadata": {
  "kernelspec": {
   "display_name": "Python 3",
   "language": "python",
   "name": "python3"
  },
  "language_info": {
   "codemirror_mode": {
    "name": "ipython",
    "version": 3
   },
   "file_extension": ".py",
   "mimetype": "text/x-python",
   "name": "python",
   "nbconvert_exporter": "python",
   "pygments_lexer": "ipython3",
   "version": "3.7.3"
  }
 },
 "nbformat": 4,
 "nbformat_minor": 2
}
